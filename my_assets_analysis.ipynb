{
 "cells": [
  {
   "cell_type": "code",
   "execution_count": 1,
   "id": "0c078223-23d3-4059-b72b-04f8562133c7",
   "metadata": {},
   "outputs": [],
   "source": [
    "import pandas as pd\n",
    "import numpy as np\n",
    "import requests\n",
    "import json\n",
    "\n",
    "from datetime import datetime\n",
    "\n",
    "pd.options.display.float_format = '{:,.8f}'.format"
   ]
  },
  {
   "cell_type": "code",
   "execution_count": 2,
   "id": "989d05d4-25a2-49dd-ab8c-ebdc8ef1fe5b",
   "metadata": {},
   "outputs": [],
   "source": [
    "req = requests.get('https://economia.awesomeapi.com.br/all/USD-BRL')\n",
    "dolar = req.json()"
   ]
  },
  {
   "cell_type": "code",
   "execution_count": 3,
   "id": "34d51dfc-7815-4a54-8521-5a24231c96ef",
   "metadata": {},
   "outputs": [
    {
     "data": {
      "text/plain": [
       "5.2265"
      ]
     },
     "execution_count": 3,
     "metadata": {},
     "output_type": "execute_result"
    }
   ],
   "source": [
    "float(dolar['USD']['bid'])"
   ]
  },
  {
   "cell_type": "code",
   "execution_count": 4,
   "id": "d5186d53-80bd-4847-baac-7227ed8a057e",
   "metadata": {},
   "outputs": [],
   "source": [
    "api_key = 'bO8vmuXx8IJXH3QwwwazOigrxVmkIv1XykU49UJN5lcxIknWBd6ooEu2lOZ0tuTS'\n",
    "api_secret = '4CZByMtKTGL7KdTfydBp2tCoGn9ZY4EYAtdP2DJRoaSE5mdXR2QXppJsj1kwCrCx'"
   ]
  },
  {
   "cell_type": "code",
   "execution_count": 5,
   "id": "27da56c2-c125-4ac8-a3c8-7f09bb63eebb",
   "metadata": {},
   "outputs": [],
   "source": [
    "from binance.spot import Spot as Client\n",
    "\n",
    "client = Client()\n",
    "client = Client(key=api_key, secret=api_secret)\n",
    "\n",
    "spot_client = Client(api_key, api_secret, show_header=False)"
   ]
  },
  {
   "cell_type": "code",
   "execution_count": 7,
   "id": "d6f4eba5-ff83-4e08-a0fc-a9604a6726be",
   "metadata": {},
   "outputs": [],
   "source": [
    "# no LD - spot account amount OR earn results\n",
    "# with LD - amount in earn flex\n",
    "df_spot = pd.DataFrame(client.account()['balances'])[['asset', 'free']]\n",
    "df_spot['free'] = df_spot['free'].astype(float)\n",
    "df_spot = df_spot[df_spot['free']>0].sort_values('free', ascending=False)\n",
    "\n",
    "df_spot.loc[df_spot['asset'].str.contains('LD'), 'asset'] = df_spot.loc[df_spot['asset'].str.contains('LD')]['asset'].str[2:]\n",
    "df_spot = df_spot.groupby('asset').sum().sort_values('free', ascending=False)"
   ]
  },
  {
   "cell_type": "code",
   "execution_count": 8,
   "id": "984536a1-dcff-4ef7-a0f5-175c02219419",
   "metadata": {},
   "outputs": [
    {
     "data": {
      "text/html": [
       "<div>\n",
       "<style scoped>\n",
       "    .dataframe tbody tr th:only-of-type {\n",
       "        vertical-align: middle;\n",
       "    }\n",
       "\n",
       "    .dataframe tbody tr th {\n",
       "        vertical-align: top;\n",
       "    }\n",
       "\n",
       "    .dataframe thead th {\n",
       "        text-align: right;\n",
       "    }\n",
       "</style>\n",
       "<table border=\"1\" class=\"dataframe\">\n",
       "  <thead>\n",
       "    <tr style=\"text-align: right;\">\n",
       "      <th></th>\n",
       "      <th>free</th>\n",
       "    </tr>\n",
       "    <tr>\n",
       "      <th>asset</th>\n",
       "      <th></th>\n",
       "    </tr>\n",
       "  </thead>\n",
       "  <tbody>\n",
       "    <tr>\n",
       "      <th>MANA</th>\n",
       "      <td>81.96177674</td>\n",
       "    </tr>\n",
       "    <tr>\n",
       "      <th>ADA</th>\n",
       "      <td>2.14886505</td>\n",
       "    </tr>\n",
       "    <tr>\n",
       "      <th>BRL</th>\n",
       "      <td>1.28637339</td>\n",
       "    </tr>\n",
       "    <tr>\n",
       "      <th>ETH</th>\n",
       "      <td>0.03234614</td>\n",
       "    </tr>\n",
       "    <tr>\n",
       "      <th>BTC</th>\n",
       "      <td>0.00452079</td>\n",
       "    </tr>\n",
       "  </tbody>\n",
       "</table>\n",
       "</div>"
      ],
      "text/plain": [
       "             free\n",
       "asset            \n",
       "MANA  81.96177674\n",
       "ADA    2.14886505\n",
       "BRL    1.28637339\n",
       "ETH    0.03234614\n",
       "BTC    0.00452079"
      ]
     },
     "execution_count": 8,
     "metadata": {},
     "output_type": "execute_result"
    }
   ],
   "source": [
    "df_spot"
   ]
  },
  {
   "cell_type": "code",
   "execution_count": 16,
   "id": "d3b25861-759b-4e3a-9bb1-01476650e2c2",
   "metadata": {},
   "outputs": [
    {
     "data": {
      "text/plain": [
       "[]"
      ]
     },
     "execution_count": 16,
     "metadata": {},
     "output_type": "execute_result"
    }
   ],
   "source": [
    "# all staking\n",
    "params = {\"product\": \"STAKING\", \"txnType\": \"SUBSCRIPTION\"}\n",
    "staking = spot_client.staking_history(**params)\n",
    "\n",
    "staking"
   ]
  },
  {
   "cell_type": "code",
   "execution_count": 21,
   "id": "56c97e37-7524-4d47-8390-8da17b7c2e1d",
   "metadata": {},
   "outputs": [
    {
     "name": "stdout",
     "output_type": "stream",
     "text": [
      "no staking\n"
     ]
    }
   ],
   "source": [
    "df_aux = pd.DataFrame(staking)\n",
    "try:\n",
    "    df_aux['amount'] = df_aux['amount'].astype(float)\n",
    "    df_aux = df_aux[['amount', 'asset']].groupby('asset').sum()\n",
    "    df_assets = df_spot.join(df_aux).fillna(0)\n",
    "    df_assets = df_assets['free'] + df_assets['amount']\n",
    "    df_assets = df_assets.to_frame('amount')\n",
    "    df_assets\n",
    "except:\n",
    "    df_assets = df_spot.copy()\n",
    "    df_assets.columns = ['amount']\n",
    "    print('no staking')"
   ]
  },
  {
   "cell_type": "code",
   "execution_count": 23,
   "id": "a5b56f34-1153-4a6d-afbb-e9115c7e2487",
   "metadata": {},
   "outputs": [],
   "source": [
    "ticker = spot_client.ticker_price()"
   ]
  },
  {
   "cell_type": "code",
   "execution_count": 24,
   "id": "d382c7cc-3edf-460d-a560-4bb4769b833d",
   "metadata": {},
   "outputs": [],
   "source": [
    "df_ticker = pd.DataFrame(ticker)"
   ]
  },
  {
   "cell_type": "code",
   "execution_count": 25,
   "id": "3037ffac-000a-4a0e-8aad-78f1eb35bfcd",
   "metadata": {},
   "outputs": [],
   "source": [
    "cryptos = df_assets.index.tolist()\n",
    "fiat_coin = ['BRL']\n",
    "\n",
    "for i in fiat_coin:\n",
    "    if i in cryptos:\n",
    "        cryptos.remove(i)"
   ]
  },
  {
   "cell_type": "code",
   "execution_count": 26,
   "id": "8a534109-6648-45ec-9a5d-c1e764cf9ea1",
   "metadata": {
    "tags": []
   },
   "outputs": [],
   "source": [
    "df_curr_ticker = pd.DataFrame()\n",
    "for i in cryptos:\n",
    "    df_curr_ticker = df_curr_ticker.append(df_ticker.loc[df_ticker['symbol'].str.contains(i+'USDT')])"
   ]
  },
  {
   "cell_type": "code",
   "execution_count": 27,
   "id": "16359274-8196-45a1-835e-f853357f7d53",
   "metadata": {},
   "outputs": [],
   "source": [
    "df_curr_ticker['symbol'] = df_curr_ticker['symbol'].str[:-4]\n",
    "df_curr_ticker.set_index('symbol', inplace=True)\n",
    "df_curr_ticker['price'] = df_curr_ticker['price'].astype(float)"
   ]
  },
  {
   "cell_type": "code",
   "execution_count": 28,
   "id": "bc86306a-5eff-498b-a598-2b8ed3c6d22f",
   "metadata": {},
   "outputs": [],
   "source": [
    "df_assets = df_assets.join(df_curr_ticker).fillna(df_assets['amount'][1] / float(dolar['USD']['bid']))"
   ]
  },
  {
   "cell_type": "code",
   "execution_count": 29,
   "id": "f645efc3-0a8c-4668-bb03-3773e5ed2f11",
   "metadata": {},
   "outputs": [],
   "source": [
    "df_assets['total_usd'] = df_assets['amount'] * df_assets['price']"
   ]
  },
  {
   "cell_type": "code",
   "execution_count": 30,
   "id": "d2c5e927-7616-4b32-af38-509eb7f07000",
   "metadata": {},
   "outputs": [
    {
     "data": {
      "text/plain": [
       "220.05041069055335"
      ]
     },
     "execution_count": 30,
     "metadata": {},
     "output_type": "execute_result"
    }
   ],
   "source": [
    "df_assets['total_usd'].sum()"
   ]
  },
  {
   "cell_type": "code",
   "execution_count": 31,
   "id": "1a7182d2-2be9-4665-a2ab-4b4468688343",
   "metadata": {},
   "outputs": [
    {
     "data": {
      "text/html": [
       "<div>\n",
       "<style scoped>\n",
       "    .dataframe tbody tr th:only-of-type {\n",
       "        vertical-align: middle;\n",
       "    }\n",
       "\n",
       "    .dataframe tbody tr th {\n",
       "        vertical-align: top;\n",
       "    }\n",
       "\n",
       "    .dataframe thead th {\n",
       "        text-align: right;\n",
       "    }\n",
       "</style>\n",
       "<table border=\"1\" class=\"dataframe\">\n",
       "  <thead>\n",
       "    <tr style=\"text-align: right;\">\n",
       "      <th></th>\n",
       "      <th>amount</th>\n",
       "      <th>price</th>\n",
       "      <th>total_usd</th>\n",
       "    </tr>\n",
       "    <tr>\n",
       "      <th>asset</th>\n",
       "      <th></th>\n",
       "      <th></th>\n",
       "      <th></th>\n",
       "    </tr>\n",
       "  </thead>\n",
       "  <tbody>\n",
       "    <tr>\n",
       "      <th>MANA</th>\n",
       "      <td>81.96065390</td>\n",
       "      <td>1.00350000</td>\n",
       "      <td>82.24751619</td>\n",
       "    </tr>\n",
       "    <tr>\n",
       "      <th>ADA</th>\n",
       "      <td>2.09516886</td>\n",
       "      <td>0.51030000</td>\n",
       "      <td>1.06916467</td>\n",
       "    </tr>\n",
       "    <tr>\n",
       "      <th>BRL</th>\n",
       "      <td>1.28633815</td>\n",
       "      <td>0.39971171</td>\n",
       "      <td>0.51416442</td>\n",
       "    </tr>\n",
       "    <tr>\n",
       "      <th>ETH</th>\n",
       "      <td>0.03234402</td>\n",
       "      <td>1,225.38000000</td>\n",
       "      <td>39.63371523</td>\n",
       "    </tr>\n",
       "    <tr>\n",
       "      <th>BTC</th>\n",
       "      <td>0.00452018</td>\n",
       "      <td>21,367.70000000</td>\n",
       "      <td>96.58585019</td>\n",
       "    </tr>\n",
       "  </tbody>\n",
       "</table>\n",
       "</div>"
      ],
      "text/plain": [
       "           amount           price   total_usd\n",
       "asset                                        \n",
       "MANA  81.96065390      1.00350000 82.24751619\n",
       "ADA    2.09516886      0.51030000  1.06916467\n",
       "BRL    1.28633815      0.39971171  0.51416442\n",
       "ETH    0.03234402  1,225.38000000 39.63371523\n",
       "BTC    0.00452018 21,367.70000000 96.58585019"
      ]
     },
     "execution_count": 31,
     "metadata": {},
     "output_type": "execute_result"
    }
   ],
   "source": [
    "df_assets"
   ]
  },
  {
   "cell_type": "code",
   "execution_count": 19,
   "id": "3a7a3dbe-0c02-4914-b5e2-f9560887f56c",
   "metadata": {},
   "outputs": [],
   "source": [
    "df_assets.to_csv('data/my_assets.csv', index=True)"
   ]
  },
  {
   "cell_type": "code",
   "execution_count": 20,
   "id": "e844ab64-46bf-4cf4-9dd4-707652aa92e2",
   "metadata": {},
   "outputs": [],
   "source": [
    "# spot_client.savings_account()"
   ]
  },
  {
   "cell_type": "code",
   "execution_count": 21,
   "id": "50cd407f-55f2-4662-be88-20cf3b9144b9",
   "metadata": {},
   "outputs": [],
   "source": [
    "# pd.DataFrame(spot_client.account_snapshot(\"SPOT\", limit=30)['snapshotVos'])"
   ]
  },
  {
   "cell_type": "code",
   "execution_count": 20,
   "id": "23985bc1-90be-41c0-a7c6-555778a24c7e",
   "metadata": {},
   "outputs": [
    {
     "data": {
      "text/plain": [
       "[{'symbol': 'BTCBRL',\n",
       "  'id': 14991229,\n",
       "  'orderId': 298414317,\n",
       "  'orderListId': -1,\n",
       "  'price': '154620.00000000',\n",
       "  'qty': '0.01325000',\n",
       "  'quoteQty': '2048.71500000',\n",
       "  'commission': '0.00001325',\n",
       "  'commissionAsset': 'BTC',\n",
       "  'time': 1652763795071,\n",
       "  'isBuyer': True,\n",
       "  'isMaker': False,\n",
       "  'isBestMatch': True}]"
      ]
     },
     "execution_count": 20,
     "metadata": {},
     "output_type": "execute_result"
    }
   ],
   "source": [
    "# crypto + currency\n",
    "spot_client.my_trades('BTCBRL')"
   ]
  },
  {
   "cell_type": "code",
   "execution_count": null,
   "id": "dc6ef9b4-6505-47cd-a3e8-d96f36490390",
   "metadata": {},
   "outputs": [],
   "source": [
    "spot_client.my_trades('ADABTC')"
   ]
  },
  {
   "cell_type": "code",
   "execution_count": null,
   "id": "a977e959-1050-4edd-9b65-af65df3212f2",
   "metadata": {},
   "outputs": [],
   "source": [
    "spot_client.my_trades('MANABTC')"
   ]
  },
  {
   "cell_type": "code",
   "execution_count": null,
   "id": "be422162-6a01-4bd3-9e2f-a572ea22b692",
   "metadata": {},
   "outputs": [],
   "source": [
    "spot_client.my_trades('ETHBTC')"
   ]
  },
  {
   "cell_type": "code",
   "execution_count": null,
   "id": "d284c50e-e675-428d-a7ee-28b651606183",
   "metadata": {},
   "outputs": [],
   "source": [
    "spot_client.fiat_order_history(0)  # 0-buy | 1-sell"
   ]
  },
  {
   "cell_type": "code",
   "execution_count": null,
   "id": "4c41673f-a968-4588-9547-b38481eb10f0",
   "metadata": {},
   "outputs": [],
   "source": [
    "spot_client.bnb_convertible_assets()"
   ]
  },
  {
   "cell_type": "code",
   "execution_count": null,
   "id": "6b848b76-4ddf-4a68-8c2c-7625557a6b8c",
   "metadata": {},
   "outputs": [],
   "source": [
    "start = int(datetime(2022, 5, 16, 23, 59, 59).timestamp() * 1000)\n",
    "end = int(datetime(2022, 5, 19, 23, 59, 59).timestamp() * 1000)\n",
    "# end = spot_client.time()['serverTime']\n",
    "\n",
    "spot_client.convert_trade_history(startTime=start, endTime=end)"
   ]
  },
  {
   "cell_type": "code",
   "execution_count": null,
   "id": "23965cd7-0df7-40f7-8f53-bdbd401d92ac",
   "metadata": {},
   "outputs": [],
   "source": [
    "spot_client.ticker_price('BTCUSDT')"
   ]
  }
 ],
 "metadata": {
  "kernelspec": {
   "display_name": "crypto",
   "language": "python",
   "name": "crypto"
  },
  "language_info": {
   "codemirror_mode": {
    "name": "ipython",
    "version": 3
   },
   "file_extension": ".py",
   "mimetype": "text/x-python",
   "name": "python",
   "nbconvert_exporter": "python",
   "pygments_lexer": "ipython3",
   "version": "3.9.12"
  }
 },
 "nbformat": 4,
 "nbformat_minor": 5
}
